{
 "cells": [
  {
   "cell_type": "code",
   "execution_count": 27,
   "metadata": {},
   "outputs": [],
   "source": [
    "import pandas as pd\n",
    "import numpy as np\n",
    "import torch\n",
    "import random\n",
    "import os\n",
    "import seaborn as sns\n",
    "import matplotlib.pyplot as plt\n",
    "from sklearn.ensemble import RandomForestRegressor\n",
    "from pathlib import Path\n",
    "import warnings\n",
    "warnings.filterwarnings('ignore')"
   ]
  },
  {
   "cell_type": "markdown",
   "metadata": {},
   "source": [
    "### Import and explore dataset"
   ]
  },
  {
   "cell_type": "code",
   "execution_count": 28,
   "metadata": {},
   "outputs": [
    {
     "data": {
      "text/html": [
       "<div>\n",
       "<style scoped>\n",
       "    .dataframe tbody tr th:only-of-type {\n",
       "        vertical-align: middle;\n",
       "    }\n",
       "\n",
       "    .dataframe tbody tr th {\n",
       "        vertical-align: top;\n",
       "    }\n",
       "\n",
       "    .dataframe thead th {\n",
       "        text-align: right;\n",
       "    }\n",
       "</style>\n",
       "<table border=\"1\" class=\"dataframe\">\n",
       "  <thead>\n",
       "    <tr style=\"text-align: right;\">\n",
       "      <th></th>\n",
       "      <th>AP/IB</th>\n",
       "      <th>Calculus</th>\n",
       "      <th>Counselors</th>\n",
       "      <th>FracSAT/ACT</th>\n",
       "      <th>black</th>\n",
       "      <th>Hispanic</th>\n",
       "      <th>white</th>\n",
       "      <th>lat</th>\n",
       "      <th>long</th>\n",
       "      <th>gis_x</th>\n",
       "      <th>gis_y</th>\n",
       "      <th>neigh1</th>\n",
       "      <th>neigh2</th>\n",
       "      <th>neigh3</th>\n",
       "      <th>neigh4</th>\n",
       "      <th>neigh5</th>\n",
       "    </tr>\n",
       "  </thead>\n",
       "  <tbody>\n",
       "    <tr>\n",
       "      <th>0</th>\n",
       "      <td>1.0</td>\n",
       "      <td>1.0</td>\n",
       "      <td>1.0</td>\n",
       "      <td>0.163317</td>\n",
       "      <td>1</td>\n",
       "      <td>0</td>\n",
       "      <td>0</td>\n",
       "      <td>40.649662</td>\n",
       "      <td>-73.958204</td>\n",
       "      <td>9.958480e+05</td>\n",
       "      <td>175968.536711</td>\n",
       "      <td>132</td>\n",
       "      <td>105</td>\n",
       "      <td>225</td>\n",
       "      <td>144</td>\n",
       "      <td>41</td>\n",
       "    </tr>\n",
       "    <tr>\n",
       "      <th>1</th>\n",
       "      <td>1.0</td>\n",
       "      <td>1.0</td>\n",
       "      <td>2.0</td>\n",
       "      <td>0.220657</td>\n",
       "      <td>0</td>\n",
       "      <td>1</td>\n",
       "      <td>0</td>\n",
       "      <td>40.859515</td>\n",
       "      <td>-73.887958</td>\n",
       "      <td>1.015243e+06</td>\n",
       "      <td>252441.989916</td>\n",
       "      <td>283</td>\n",
       "      <td>99</td>\n",
       "      <td>2</td>\n",
       "      <td>270</td>\n",
       "      <td>64</td>\n",
       "    </tr>\n",
       "    <tr>\n",
       "      <th>2</th>\n",
       "      <td>1.0</td>\n",
       "      <td>0.0</td>\n",
       "      <td>1.0</td>\n",
       "      <td>0.296588</td>\n",
       "      <td>0</td>\n",
       "      <td>1</td>\n",
       "      <td>0</td>\n",
       "      <td>40.859576</td>\n",
       "      <td>-73.889183</td>\n",
       "      <td>1.014904e+06</td>\n",
       "      <td>252463.809247</td>\n",
       "      <td>99</td>\n",
       "      <td>283</td>\n",
       "      <td>1</td>\n",
       "      <td>270</td>\n",
       "      <td>64</td>\n",
       "    </tr>\n",
       "    <tr>\n",
       "      <th>3</th>\n",
       "      <td>1.0</td>\n",
       "      <td>0.0</td>\n",
       "      <td>1.0</td>\n",
       "      <td>0.107330</td>\n",
       "      <td>0</td>\n",
       "      <td>1</td>\n",
       "      <td>0</td>\n",
       "      <td>40.818359</td>\n",
       "      <td>-73.911368</td>\n",
       "      <td>1.008782e+06</td>\n",
       "      <td>237439.880982</td>\n",
       "      <td>191</td>\n",
       "      <td>65</td>\n",
       "      <td>156</td>\n",
       "      <td>307</td>\n",
       "      <td>290</td>\n",
       "    </tr>\n",
       "    <tr>\n",
       "      <th>4</th>\n",
       "      <td>1.0</td>\n",
       "      <td>1.0</td>\n",
       "      <td>1.0</td>\n",
       "      <td>0.228381</td>\n",
       "      <td>0</td>\n",
       "      <td>1</td>\n",
       "      <td>0</td>\n",
       "      <td>40.878025</td>\n",
       "      <td>-73.913255</td>\n",
       "      <td>1.008238e+06</td>\n",
       "      <td>259178.021389</td>\n",
       "      <td>271</td>\n",
       "      <td>100</td>\n",
       "      <td>305</td>\n",
       "      <td>8</td>\n",
       "      <td>230</td>\n",
       "    </tr>\n",
       "    <tr>\n",
       "      <th>...</th>\n",
       "      <td>...</td>\n",
       "      <td>...</td>\n",
       "      <td>...</td>\n",
       "      <td>...</td>\n",
       "      <td>...</td>\n",
       "      <td>...</td>\n",
       "      <td>...</td>\n",
       "      <td>...</td>\n",
       "      <td>...</td>\n",
       "      <td>...</td>\n",
       "      <td>...</td>\n",
       "      <td>...</td>\n",
       "      <td>...</td>\n",
       "      <td>...</td>\n",
       "      <td>...</td>\n",
       "      <td>...</td>\n",
       "    </tr>\n",
       "    <tr>\n",
       "      <th>340</th>\n",
       "      <td>1.0</td>\n",
       "      <td>1.0</td>\n",
       "      <td>4.0</td>\n",
       "      <td>0.198575</td>\n",
       "      <td>1</td>\n",
       "      <td>0</td>\n",
       "      <td>0</td>\n",
       "      <td>40.744448</td>\n",
       "      <td>-73.728974</td>\n",
       "      <td>1.059350e+06</td>\n",
       "      <td>210615.167144</td>\n",
       "      <td>213</td>\n",
       "      <td>248</td>\n",
       "      <td>275</td>\n",
       "      <td>316</td>\n",
       "      <td>212</td>\n",
       "    </tr>\n",
       "    <tr>\n",
       "      <th>341</th>\n",
       "      <td>1.0</td>\n",
       "      <td>0.0</td>\n",
       "      <td>2.0</td>\n",
       "      <td>0.067594</td>\n",
       "      <td>0</td>\n",
       "      <td>1</td>\n",
       "      <td>0</td>\n",
       "      <td>40.774969</td>\n",
       "      <td>-73.986084</td>\n",
       "      <td>9.881044e+05</td>\n",
       "      <td>221619.088133</td>\n",
       "      <td>49</td>\n",
       "      <td>13</td>\n",
       "      <td>343</td>\n",
       "      <td>159</td>\n",
       "      <td>82</td>\n",
       "    </tr>\n",
       "    <tr>\n",
       "      <th>342</th>\n",
       "      <td>0.0</td>\n",
       "      <td>0.0</td>\n",
       "      <td>1.0</td>\n",
       "      <td>0.222222</td>\n",
       "      <td>1</td>\n",
       "      <td>0</td>\n",
       "      <td>0</td>\n",
       "      <td>40.698381</td>\n",
       "      <td>-73.745498</td>\n",
       "      <td>1.054820e+06</td>\n",
       "      <td>193818.062362</td>\n",
       "      <td>316</td>\n",
       "      <td>236</td>\n",
       "      <td>243</td>\n",
       "      <td>338</td>\n",
       "      <td>62</td>\n",
       "    </tr>\n",
       "    <tr>\n",
       "      <th>343</th>\n",
       "      <td>1.0</td>\n",
       "      <td>0.0</td>\n",
       "      <td>2.6</td>\n",
       "      <td>0.102564</td>\n",
       "      <td>0</td>\n",
       "      <td>1</td>\n",
       "      <td>0</td>\n",
       "      <td>40.774700</td>\n",
       "      <td>-73.985454</td>\n",
       "      <td>9.882789e+05</td>\n",
       "      <td>221521.223661</td>\n",
       "      <td>13</td>\n",
       "      <td>49</td>\n",
       "      <td>341</td>\n",
       "      <td>159</td>\n",
       "      <td>82</td>\n",
       "    </tr>\n",
       "    <tr>\n",
       "      <th>344</th>\n",
       "      <td>1.0</td>\n",
       "      <td>0.0</td>\n",
       "      <td>3.0</td>\n",
       "      <td>0.162127</td>\n",
       "      <td>0</td>\n",
       "      <td>1</td>\n",
       "      <td>0</td>\n",
       "      <td>40.827512</td>\n",
       "      <td>-73.918998</td>\n",
       "      <td>1.006667e+06</td>\n",
       "      <td>240772.678845</td>\n",
       "      <td>285</td>\n",
       "      <td>17</td>\n",
       "      <td>284</td>\n",
       "      <td>307</td>\n",
       "      <td>3</td>\n",
       "    </tr>\n",
       "  </tbody>\n",
       "</table>\n",
       "<p>345 rows × 16 columns</p>\n",
       "</div>"
      ],
      "text/plain": [
       "     AP/IB  Calculus  Counselors  FracSAT/ACT  black  Hispanic  white  \\\n",
       "0      1.0       1.0         1.0     0.163317      1         0      0   \n",
       "1      1.0       1.0         2.0     0.220657      0         1      0   \n",
       "2      1.0       0.0         1.0     0.296588      0         1      0   \n",
       "3      1.0       0.0         1.0     0.107330      0         1      0   \n",
       "4      1.0       1.0         1.0     0.228381      0         1      0   \n",
       "..     ...       ...         ...          ...    ...       ...    ...   \n",
       "340    1.0       1.0         4.0     0.198575      1         0      0   \n",
       "341    1.0       0.0         2.0     0.067594      0         1      0   \n",
       "342    0.0       0.0         1.0     0.222222      1         0      0   \n",
       "343    1.0       0.0         2.6     0.102564      0         1      0   \n",
       "344    1.0       0.0         3.0     0.162127      0         1      0   \n",
       "\n",
       "           lat       long         gis_x          gis_y  neigh1  neigh2  \\\n",
       "0    40.649662 -73.958204  9.958480e+05  175968.536711     132     105   \n",
       "1    40.859515 -73.887958  1.015243e+06  252441.989916     283      99   \n",
       "2    40.859576 -73.889183  1.014904e+06  252463.809247      99     283   \n",
       "3    40.818359 -73.911368  1.008782e+06  237439.880982     191      65   \n",
       "4    40.878025 -73.913255  1.008238e+06  259178.021389     271     100   \n",
       "..         ...        ...           ...            ...     ...     ...   \n",
       "340  40.744448 -73.728974  1.059350e+06  210615.167144     213     248   \n",
       "341  40.774969 -73.986084  9.881044e+05  221619.088133      49      13   \n",
       "342  40.698381 -73.745498  1.054820e+06  193818.062362     316     236   \n",
       "343  40.774700 -73.985454  9.882789e+05  221521.223661      13      49   \n",
       "344  40.827512 -73.918998  1.006667e+06  240772.678845     285      17   \n",
       "\n",
       "     neigh3  neigh4  neigh5  \n",
       "0       225     144      41  \n",
       "1         2     270      64  \n",
       "2         1     270      64  \n",
       "3       156     307     290  \n",
       "4       305       8     230  \n",
       "..      ...     ...     ...  \n",
       "340     275     316     212  \n",
       "341     343     159      82  \n",
       "342     243     338      62  \n",
       "343     341     159      82  \n",
       "344     284     307       3  \n",
       "\n",
       "[345 rows x 16 columns]"
      ]
     },
     "execution_count": 28,
     "metadata": {},
     "output_type": "execute_result"
    }
   ],
   "source": [
    "NYCdf = pd.read_csv('../scripts/data/NYCschools/final_data_interventions_max_frac.csv')\n",
    "NYCdf"
   ]
  },
  {
   "cell_type": "code",
   "execution_count": 29,
   "metadata": {},
   "outputs": [],
   "source": [
    "NYCdf['Race'] = NYCdf.apply(lambda x: 1 if x['white']==1 else 0, axis=1)"
   ]
  },
  {
   "cell_type": "code",
   "execution_count": 30,
   "metadata": {},
   "outputs": [
    {
     "data": {
      "text/html": [
       "<div>\n",
       "<style scoped>\n",
       "    .dataframe tbody tr th:only-of-type {\n",
       "        vertical-align: middle;\n",
       "    }\n",
       "\n",
       "    .dataframe tbody tr th {\n",
       "        vertical-align: top;\n",
       "    }\n",
       "\n",
       "    .dataframe thead th {\n",
       "        text-align: right;\n",
       "    }\n",
       "</style>\n",
       "<table border=\"1\" class=\"dataframe\">\n",
       "  <thead>\n",
       "    <tr style=\"text-align: right;\">\n",
       "      <th></th>\n",
       "      <th>S</th>\n",
       "      <th>T</th>\n",
       "      <th>Cl</th>\n",
       "      <th>Cs</th>\n",
       "      <th>Y</th>\n",
       "      <th>lat</th>\n",
       "      <th>long</th>\n",
       "    </tr>\n",
       "  </thead>\n",
       "  <tbody>\n",
       "    <tr>\n",
       "      <th>0</th>\n",
       "      <td>0</td>\n",
       "      <td>1.0</td>\n",
       "      <td>1.0</td>\n",
       "      <td>1.0</td>\n",
       "      <td>0.163317</td>\n",
       "      <td>40.649662</td>\n",
       "      <td>-73.958204</td>\n",
       "    </tr>\n",
       "    <tr>\n",
       "      <th>1</th>\n",
       "      <td>0</td>\n",
       "      <td>1.0</td>\n",
       "      <td>1.0</td>\n",
       "      <td>2.0</td>\n",
       "      <td>0.220657</td>\n",
       "      <td>40.859515</td>\n",
       "      <td>-73.887958</td>\n",
       "    </tr>\n",
       "    <tr>\n",
       "      <th>2</th>\n",
       "      <td>0</td>\n",
       "      <td>1.0</td>\n",
       "      <td>0.0</td>\n",
       "      <td>1.0</td>\n",
       "      <td>0.296588</td>\n",
       "      <td>40.859576</td>\n",
       "      <td>-73.889183</td>\n",
       "    </tr>\n",
       "    <tr>\n",
       "      <th>3</th>\n",
       "      <td>0</td>\n",
       "      <td>1.0</td>\n",
       "      <td>0.0</td>\n",
       "      <td>1.0</td>\n",
       "      <td>0.107330</td>\n",
       "      <td>40.818359</td>\n",
       "      <td>-73.911368</td>\n",
       "    </tr>\n",
       "    <tr>\n",
       "      <th>4</th>\n",
       "      <td>0</td>\n",
       "      <td>1.0</td>\n",
       "      <td>1.0</td>\n",
       "      <td>1.0</td>\n",
       "      <td>0.228381</td>\n",
       "      <td>40.878025</td>\n",
       "      <td>-73.913255</td>\n",
       "    </tr>\n",
       "    <tr>\n",
       "      <th>...</th>\n",
       "      <td>...</td>\n",
       "      <td>...</td>\n",
       "      <td>...</td>\n",
       "      <td>...</td>\n",
       "      <td>...</td>\n",
       "      <td>...</td>\n",
       "      <td>...</td>\n",
       "    </tr>\n",
       "    <tr>\n",
       "      <th>340</th>\n",
       "      <td>0</td>\n",
       "      <td>1.0</td>\n",
       "      <td>1.0</td>\n",
       "      <td>4.0</td>\n",
       "      <td>0.198575</td>\n",
       "      <td>40.744448</td>\n",
       "      <td>-73.728974</td>\n",
       "    </tr>\n",
       "    <tr>\n",
       "      <th>341</th>\n",
       "      <td>0</td>\n",
       "      <td>1.0</td>\n",
       "      <td>0.0</td>\n",
       "      <td>2.0</td>\n",
       "      <td>0.067594</td>\n",
       "      <td>40.774969</td>\n",
       "      <td>-73.986084</td>\n",
       "    </tr>\n",
       "    <tr>\n",
       "      <th>342</th>\n",
       "      <td>0</td>\n",
       "      <td>0.0</td>\n",
       "      <td>0.0</td>\n",
       "      <td>1.0</td>\n",
       "      <td>0.222222</td>\n",
       "      <td>40.698381</td>\n",
       "      <td>-73.745498</td>\n",
       "    </tr>\n",
       "    <tr>\n",
       "      <th>343</th>\n",
       "      <td>0</td>\n",
       "      <td>1.0</td>\n",
       "      <td>0.0</td>\n",
       "      <td>2.6</td>\n",
       "      <td>0.102564</td>\n",
       "      <td>40.774700</td>\n",
       "      <td>-73.985454</td>\n",
       "    </tr>\n",
       "    <tr>\n",
       "      <th>344</th>\n",
       "      <td>0</td>\n",
       "      <td>1.0</td>\n",
       "      <td>0.0</td>\n",
       "      <td>3.0</td>\n",
       "      <td>0.162127</td>\n",
       "      <td>40.827512</td>\n",
       "      <td>-73.918998</td>\n",
       "    </tr>\n",
       "  </tbody>\n",
       "</table>\n",
       "<p>345 rows × 7 columns</p>\n",
       "</div>"
      ],
      "text/plain": [
       "     S    T   Cl   Cs         Y        lat       long\n",
       "0    0  1.0  1.0  1.0  0.163317  40.649662 -73.958204\n",
       "1    0  1.0  1.0  2.0  0.220657  40.859515 -73.887958\n",
       "2    0  1.0  0.0  1.0  0.296588  40.859576 -73.889183\n",
       "3    0  1.0  0.0  1.0  0.107330  40.818359 -73.911368\n",
       "4    0  1.0  1.0  1.0  0.228381  40.878025 -73.913255\n",
       "..  ..  ...  ...  ...       ...        ...        ...\n",
       "340  0  1.0  1.0  4.0  0.198575  40.744448 -73.728974\n",
       "341  0  1.0  0.0  2.0  0.067594  40.774969 -73.986084\n",
       "342  0  0.0  0.0  1.0  0.222222  40.698381 -73.745498\n",
       "343  0  1.0  0.0  2.6  0.102564  40.774700 -73.985454\n",
       "344  0  1.0  0.0  3.0  0.162127  40.827512 -73.918998\n",
       "\n",
       "[345 rows x 7 columns]"
      ]
     },
     "execution_count": 30,
     "metadata": {},
     "output_type": "execute_result"
    }
   ],
   "source": [
    "NYCdf = NYCdf[['Race', 'AP/IB', 'Calculus', 'Counselors', 'FracSAT/ACT', 'lat', 'long']]\n",
    "NYCdf.rename(columns={'Race': 'S', 'AP/IB': 'T', 'Calculus': 'Cl', 'Counselors': 'Cs', 'FracSAT/ACT': 'Y'}, inplace=True)\n",
    "# 'lat': 'La', 'long': 'Lo'\n",
    "NYCdf"
   ]
  },
  {
   "cell_type": "code",
   "execution_count": 31,
   "metadata": {},
   "outputs": [
    {
     "data": {
      "text/plain": [
       "31"
      ]
     },
     "execution_count": 31,
     "metadata": {},
     "output_type": "execute_result"
    }
   ],
   "source": [
    "# Cs is descrte, how many categories?\n",
    "len(sorted(NYCdf['Cs'].unique()))"
   ]
  },
  {
   "cell_type": "code",
   "execution_count": 32,
   "metadata": {},
   "outputs": [
    {
     "data": {
      "text/plain": [
       "<AxesSubplot:xlabel='T', ylabel='Count'>"
      ]
     },
     "execution_count": 32,
     "metadata": {},
     "output_type": "execute_result"
    },
    {
     "data": {
      "image/png": "[encoded data removed]",
      "text/plain": [
       "<Figure size 432x288 with 1 Axes>"
      ]
     },
     "metadata": {
      "needs_background": "light"
     },
     "output_type": "display_data"
    }
   ],
   "source": [
    "sns.histplot(NYCdf, x = 'T', hue = 'S', multiple = 'dodge')"
   ]
  },
  {
   "cell_type": "code",
   "execution_count": 33,
   "metadata": {},
   "outputs": [
    {
     "data": {
      "text/plain": [
       "<AxesSubplot:xlabel='Y', ylabel='Count'>"
      ]
     },
     "execution_count": 33,
     "metadata": {},
     "output_type": "execute_result"
    },
    {
     "data": {
      "image/png": "[encoded data removed]",
      "text/plain": [
       "<Figure size 720x720 with 4 Axes>"
      ]
     },
     "metadata": {
      "needs_background": "light"
     },
     "output_type": "display_data"
    }
   ],
   "source": [
    "fig, axs = plt.subplots(nrows = 2, ncols = 2, figsize = (10,10))\n",
    "sns.histplot(NYCdf, x = 'T', hue = 'S', multiple = 'dodge', ax = axs[0,0])\n",
    "sns.histplot(NYCdf, x = 'Cl', hue = 'S', multiple = 'dodge', ax = axs[0,1])\n",
    "sns.histplot(NYCdf, x = 'Cs', hue = 'S', multiple = 'dodge', ax = axs[1,0])\n",
    "sns.histplot(NYCdf, x = 'Y', hue = 'S', multiple = 'dodge', ax = axs[1,1])"
   ]
  },
  {
   "cell_type": "markdown",
   "metadata": {},
   "source": [
    "### Create dataset, composedY"
   ]
  },
  {
   "cell_type": "code",
   "execution_count": 34,
   "metadata": {},
   "outputs": [],
   "source": [
    "def ReLU(x):\n",
    "    return x * (x > 0)"
   ]
  },
  {
   "cell_type": "code",
   "execution_count": 35,
   "metadata": {},
   "outputs": [
    {
     "name": "stdout",
     "output_type": "stream",
     "text": [
      "beta:  [ 0.91161652  1.20420611  0.56764875  0.58993208  0.57144793  0.43036686\n",
      " -0.24501961  5.38014787  5.32657803  4.3904496   4.82878157  4.70303727\n",
      "  4.71866248  4.14415174  4.74821002]\n",
      "gamma:  [1.03908819 1.82379521 0.95769321 5.04888767 4.79382574 4.75989846\n",
      " 5.37897593]\n"
     ]
    }
   ],
   "source": [
    "from sklearn.utils import resample\n",
    "from sklearn.preprocessing import MinMaxScaler\n",
    "random.seed(42)\n",
    "torch.manual_seed(42)\n",
    "np.random.seed(42)\n",
    "noise_mean = 0.5\n",
    "std = 0.4\n",
    "wx_linear = np.random.rand(3)\n",
    "ws_linear = np.random.rand(1)\n",
    "wsx_linear = np.random.rand(3)\n",
    "beta_non_A = np.random.normal(loc=0.8, scale=std, size=(7, 1))\n",
    "beta_A = np.random.normal(loc=5, scale=std, size=(8, 1))\n",
    "gamma_non_A = np.random.normal(loc=0.8, scale=std, size=(3, 1))\n",
    "gamma_A = np.random.normal(loc=5, scale=std, size=(4, 1))\n",
    "# print(beta_non_A, gamma_non_A)\n",
    "beta = np.concatenate((beta_non_A, beta_A), axis=0).squeeze()\n",
    "gamma = np.concatenate((gamma_non_A, gamma_A), axis=0).squeeze()\n",
    "print(\"beta: \", beta)\n",
    "print(\"gamma: \", gamma)\n",
    "X_cols = ['T', 'Cl', 'Cs']\n",
    "X = NYCdf[X_cols].to_numpy()\n",
    "y = NYCdf['Y'].to_numpy()\n",
    "n = len(y)\n",
    "S = NYCdf['S'].to_numpy().reshape(n, -1)\n",
    "noise_nonlin = np.random.normal(0.5, std, (n, 1))\n",
    "# A structural equation\n",
    "A = (((wsx_linear.dot(X.T) * S.squeeze())**2) + ReLU(wx_linear.dot(X.T))).reshape(-1, 1)\n",
    "# A + noise\n",
    "A_noise = A + noise_nonlin.reshape(-1, 1)\n",
    "# scale to [0,1]\n",
    "normalimze_nonlin = MinMaxScaler(feature_range=(0, 1)).fit(A_noise)\n",
    "A_nonlinear_bounded01 = normalimze_nonlin.transform(A_noise)\n",
    "noise_composed_Y = np.random.normal(1, std, (n, ))\n",
    "## Create f, g, h\n",
    "def generate_g(beta, S, X, A, rescale=3):\n",
    "    return beta.dot(np.concatenate([S, X, S*X, A, X*A, S*A, S*A*X], axis=1).T)/rescale\n",
    "def generate_h(gamma, A, X):\n",
    "    return gamma.dot(np.concatenate([X, A, A*X], axis=1).T)\n",
    "g = generate_g(beta, S, X, A_nonlinear_bounded01)\n",
    "h = generate_h(gamma, A_nonlinear_bounded01, X)\n",
    "## Create Y_pi\n",
    "y0_scale=20\n",
    "def composed_Y_no_divide(y, g, h, noise, y0_scale=y0_scale):\n",
    "    return (y0_scale*y + g + h + noise)\n",
    "Y_strongerA = composed_Y_no_divide(y, g, h, noise_composed_Y)\n",
    "## Compose the dataframe\n",
    "NYC_pi_nonlinear_strongerA = \\\n",
    "    np.concatenate((X, S, A_nonlinear_bounded01, A, Y_strongerA.reshape(-1, 1), y.reshape(-1, 1)), axis=1)\n",
    "NYC_pi_nonlinear_strongerA = \\\n",
    "    pd.DataFrame(NYC_pi_nonlinear_strongerA\\\n",
    "        , columns=['T', 'Cl', 'Cs', 'S', 'A', 'A_mu', 'Y', 'Orig_Y'])\n",
    "NYC_pi_nonlinear_strongerA['wsx_linear0'] = wsx_linear[0]\n",
    "NYC_pi_nonlinear_strongerA['wsx_linear1'] = wsx_linear[1]\n",
    "NYC_pi_nonlinear_strongerA['wsx_linear2'] = wsx_linear[2]\n",
    "NYC_pi_nonlinear_strongerA['wx_linear0'] = wx_linear[0]\n",
    "NYC_pi_nonlinear_strongerA['wx_linear1'] = wx_linear[1]\n",
    "NYC_pi_nonlinear_strongerA['wx_linear2'] = wx_linear[2]"
   ]
  },
  {
   "cell_type": "code",
   "execution_count": 36,
   "metadata": {},
   "outputs": [
    {
     "name": "stdout",
     "output_type": "stream",
     "text": [
      "Mean of Y: 16.120714685827462\n",
      "MinA: [0.11479375]\n",
      "RangeA: [16.88043813]\n"
     ]
    }
   ],
   "source": [
    "print(\"Mean of Y:\", Y_strongerA.mean())\n",
    "print(\"MinA:\", min(A_noise))\n",
    "print(\"RangeA:\", max(A_noise) - min(A_noise))"
   ]
  },
  {
   "cell_type": "code",
   "execution_count": 37,
   "metadata": {},
   "outputs": [
    {
     "data": {
      "text/plain": [
       "<seaborn.axisgrid.PairGrid at 0x7fbe4bedcbb0>"
      ]
     },
     "execution_count": 37,
     "metadata": {},
     "output_type": "execute_result"
    },
    {
     "data": {
      "image/png": "[encoded data removed]",
      "text/plain": [
       "<Figure size 412x360 with 6 Axes>"
      ]
     },
     "metadata": {
      "needs_background": "light"
     },
     "output_type": "display_data"
    }
   ],
   "source": [
    "df_actions = pd.DataFrame(np.concatenate((A_nonlinear_bounded01, S, Y_strongerA.reshape(-1, 1)), axis=1), columns=['a', 's', 'y_pi'])\n",
    "sns.pairplot(df_actions, hue='s')"
   ]
  },
  {
   "cell_type": "code",
   "execution_count": 38,
   "metadata": {},
   "outputs": [],
   "source": [
    "A_0s = np.zeros(A_nonlinear_bounded01.shape)\n",
    "A_03s = np.full(A_nonlinear_bounded01.shape, 0.3)"
   ]
  },
  {
   "cell_type": "code",
   "execution_count": 39,
   "metadata": {},
   "outputs": [
    {
     "name": "stdout",
     "output_type": "stream",
     "text": [
      "mean y_0 A0 response:  0.12052004084233518\n",
      "mean y_0 s0: 0.11329623363334092, s1: 0.21298477311746186\n",
      "mean Y A0 response:  7.930005773674408\n",
      "mean Y s0: 7.41930840104296, s1: 14.466932143356923\n",
      "mean g A0 response:  0.8243265562809097\n",
      "mean g s0: 0.755327677258832, s1: 1.7075122077635034\n",
      "mean h A0 response:  3.715747928592916\n",
      "mean h s0: 3.4252423809366603, s1: 7.434218938592986\n"
     ]
    },
    {
     "data": {
      "text/plain": [
       "<seaborn.axisgrid.PairGrid at 0x7fbe4cfbf280>"
      ]
     },
     "execution_count": 39,
     "metadata": {},
     "output_type": "execute_result"
    },
    {
     "data": {
      "image/png": "[encoded data removed]",
      "text/plain": [
       "<Figure size 193.25x180 with 2 Axes>"
      ]
     },
     "metadata": {
      "needs_background": "light"
     },
     "output_type": "display_data"
    }
   ],
   "source": [
    "g_A0s = generate_g(beta, S, X, A_0s)\n",
    "h_A0s = generate_h(gamma, A_0s, X)\n",
    "## Create Y_pi\n",
    "Y_A0s = composed_Y_no_divide(y, g_A0s, h_A0s, noise_composed_Y)\n",
    "print(\"mean y_0 A0 response: \", np.mean(y))\n",
    "print(\"mean y_0 s0: {}, s1: {}\".format(y[S.squeeze()==0].mean(), y[S.squeeze()==1].mean()))\n",
    "print(\"mean Y A0 response: \", np.mean(Y_A0s))\n",
    "print(\"mean Y s0: {}, s1: {}\".format(Y_A0s[S.squeeze()==0].mean(), Y_A0s[S.squeeze()==1].mean()))\n",
    "print(\"mean g A0 response: \", np.mean(g_A0s))\n",
    "print(\"mean g s0: {}, s1: {}\".format(g_A0s[S.squeeze()==0].mean(), g_A0s[S.squeeze()==1].mean()))\n",
    "print(\"mean h A0 response: \", np.mean(h_A0s))\n",
    "print(\"mean h s0: {}, s1: {}\".format(h_A0s[S.squeeze()==0].mean(), h_A0s[S.squeeze()==1].mean()))\n",
    "# boot_Y_A0s.shape\n",
    "df = pd.DataFrame(np.concatenate((Y_A0s.reshape(-1,1), S.reshape(-1, 1)), axis=1), columns=['y_pi', 's'])\n",
    "sns.pairplot(df, hue='s')"
   ]
  },
  {
   "cell_type": "code",
   "execution_count": 40,
   "metadata": {},
   "outputs": [
    {
     "name": "stdout",
     "output_type": "stream",
     "text": [
      "mean Y A03 response:  17.427405417306137\n",
      "mean Y s0: 16.105834774073276, s1: 34.34350965068676\n",
      "mean g A03 response:  3.334297370487915\n",
      "mean g s0: 2.870901158154047, s1: 9.265768888361409\n",
      "mean h A03 response:  3.715747928592916\n",
      "mean h s0: 9.99619527307176, s1: 19.752539765324922\n"
     ]
    },
    {
     "data": {
      "text/plain": [
       "(array([ 94., 147.,  66.,  19.,   5.,   8.,   2.,   3.,   0.,   1.]),\n",
       " array([ 2.76967139, 11.02114968, 19.27262797, 27.52410627, 35.77558456,\n",
       "        44.02706285, 52.27854114, 60.53001944, 68.78149773, 77.03297602,\n",
       "        85.28445432]),\n",
       " <BarContainer object of 10 artists>)"
      ]
     },
     "execution_count": 40,
     "metadata": {},
     "output_type": "execute_result"
    },
    {
     "data": {
      "image/png": "[encoded data removed]",
      "text/plain": [
       "<Figure size 432x288 with 1 Axes>"
      ]
     },
     "metadata": {
      "needs_background": "light"
     },
     "output_type": "display_data"
    }
   ],
   "source": [
    "g_A03s = generate_g(beta, S, X, A_03s)\n",
    "h_A03s = generate_h(gamma, A_03s, X)\n",
    "## Create Y_pi\n",
    "Y_A03s = composed_Y_no_divide(y, g_A03s, h_A03s, noise_composed_Y)\n",
    "print(\"mean Y A03 response: \", np.mean(Y_A03s))\n",
    "print(\"mean Y s0: {}, s1: {}\".format(Y_A03s[S.squeeze()==0].mean(), Y_A03s[S.squeeze()==1].mean()))\n",
    "print(\"mean g A03 response: \", np.mean(g_A03s))\n",
    "print(\"mean g s0: {}, s1: {}\".format(g_A03s[S.squeeze()==0].mean(), g_A03s[S.squeeze()==1].mean()))\n",
    "print(\"mean h A03 response: \", np.mean(h_A0s))\n",
    "print(\"mean h s0: {}, s1: {}\".format(h_A03s[S.squeeze()==0].mean(), h_A03s[S.squeeze()==1].mean()))\n",
    "plt.hist(Y_A03s)"
   ]
  },
  {
   "cell_type": "code",
   "execution_count": 41,
   "metadata": {},
   "outputs": [],
   "source": [
    "oracle_params = [wsx_linear, wx_linear, np.array([noise_mean]), beta, gamma]"
   ]
  },
  {
   "cell_type": "code",
   "execution_count": 42,
   "metadata": {},
   "outputs": [],
   "source": [
    "import pickle\n",
    "pkl_filename = \"../scripts/data/NYCschools/pi_nonlinear_strongerA_oracle_model.pkl\"\n",
    "with open(pkl_filename, 'wb') as file:\n",
    "    pickle.dump(oracle_params, file)\n",
    "np.savez_compressed('../scripts/data/NYCschools/simY_pi_nonlinear_strongerA_all.npz',NYC_pi_nonlinear_strongerA)"
   ]
  }
 ],
 "metadata": {
  "interpreter": {
   "hash": "d51e50bde92b0716b9322a6758b1ac6841bdd1cfda10b4bdd1f9a49aab2cb48f"
  },
  "kernelspec": {
   "display_name": "Python 3",
   "language": "python",
   "name": "python3"
  },
  "language_info": {
   "codemirror_mode": {
    "name": "ipython",
    "version": 3
   },
   "file_extension": ".py",
   "mimetype": "text/x-python",
   "name": "python",
   "nbconvert_exporter": "python",
   "pygments_lexer": "ipython3",
   "version": "3.8.8"
  }
 },
 "nbformat": 4,
 "nbformat_minor": 2
}
